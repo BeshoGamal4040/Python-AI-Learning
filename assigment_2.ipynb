{
 "cells": [
  {
   "cell_type": "markdown",
   "id": "92dccc3b",
   "metadata": {},
   "source": [
    "1- Create a class called UserAccount. It has firstname, lastname, incomes, expenses properties (atrributes)\n",
    "\n",
    "2- it has add_income, add_expense , total_income, total_expense, account_info and account_balance methods (functions). \n",
    "\n",
    "3- Incomes is a set of incomes as values and its description. The same goes for expenses.\n",
    "\n",
    "add to the previous :\n",
    "\n",
    "1- firstname and lastname properties to store the account holder's name.\n",
    "\n",
    "2- incomes and expenses properties as lists to store income and expense records.\n",
    "\n",
    "3- Methods to add incomes (add_income) and expenses (add_expense).\n",
    "\n",
    "4- Methods to calculate total income (total_income) and total expense (total_expense).\n",
    "\n",
    "5- A method to calculate the account balance (account_balance).\n",
    "\n",
    "6 - A method to display account information (account_info)."
   ]
  },
  {
   "cell_type": "code",
   "execution_count": null,
   "id": "9750d974",
   "metadata": {
    "vscode": {
     "languageId": "plaintext"
    }
   },
   "outputs": [],
   "source": [
    "class UserAccount:\n",
    "    def __init__(self, firstname, lastname):\n",
    "        self.firstname = firstname\n",
    "        self.lastname = lastname\n",
    "        self.incomes = []  \n",
    "        self.expenses = []  \n",
    "\n",
    "    def add_income(self, description, amount):\n",
    "        self.incomes.append((description, amount))\n",
    "\n",
    "    def add_expense(self, description, amount):\n",
    "        self.expenses.append((description, amount))\n",
    "\n",
    "    def total_income(self):\n",
    "        return sum(amount for desc, amount in self.incomes)\n",
    "\n",
    "    def total_expense(self):\n",
    "        return sum(amount for desc, amount in self.expenses)\n",
    "\n",
    "    def account_balance(self):\n",
    "        return self.total_income() - self.total_expense()\n",
    "\n",
    "    def account_info(self):\n",
    "        print(\"Account Holder: \" , self.firstname ,self.lastname)\n",
    "        print(\"---- Incomes ----\")\n",
    "        for desc, amt in self.incomes:\n",
    "            print(desc,\": $\",amt)\n",
    "        print(\"---- Expenses ----\")\n",
    "        for desc, amt in self.expenses:\n",
    "            print(desc,\": $\",amt)\n",
    "        print(\"------------------\")\n",
    "        print(\"Total Income: $\", self.total_income())\n",
    "        print(\"Total Expenses: $\", self.total_expense())\n",
    "        print(\"Account Balance: $\", self.account_balance())\n",
    "\n",
    "\n",
    "\n",
    "user = UserAccount(\"Beshoy\", \"Gamal\")\n",
    "\n",
    "\n",
    "user.add_income(\"Salary\", 5000)\n",
    "user.add_income(\"Project\", 1200)\n",
    "user.add_expense(\"Rent\", 2000)\n",
    "user.add_expense(\"arfa\", 500)\n",
    "user.add_expense(\"train\", 300)\n",
    "\n",
    "\n",
    "user.account_info()\n"
   ]
  }
 ],
 "metadata": {
  "language_info": {
   "name": "python"
  }
 },
 "nbformat": 4,
 "nbformat_minor": 5
}
