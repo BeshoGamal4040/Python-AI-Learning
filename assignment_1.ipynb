{
 "cells": [
  {
   "cell_type": "markdown",
   "id": "82df0ac5",
   "metadata": {},
   "source": [
    " make calculator that take from user two inputs and operation return answer"
   ]
  },
  {
   "cell_type": "code",
   "execution_count": null,
   "id": "1280c6d9",
   "metadata": {
    "vscode": {
     "languageId": "plaintext"
    }
   },
   "outputs": [],
   "source": [
    "def calculator():\n",
    "    \n",
    "    n1 = float(input(\"Enter the first number: \"))\n",
    "    op = input(\"Enter operation (+, -, *, /): \")\n",
    "    n2 = float(input(\"Enter the second number: \"))\n",
    "\n",
    "    \n",
    "    if op == '+':\n",
    "        result = n1 + n2\n",
    "    elif op == '-':\n",
    "        result = n1 - n2\n",
    "    elif op == '*':\n",
    "        result = n1 * n2\n",
    "    elif op == '/':\n",
    "        if n2 != 0:\n",
    "            result = n1 / n2\n",
    "        else:\n",
    "            print(\"Cannot divide by zero\")\n",
    "    else:\n",
    "        print(\"Invalid operation\")\n",
    "\n",
    "    print(\"The result is: \" + str(result))\n",
    "\n",
    "calculator()\n"
   ]
  },
  {
   "cell_type": "markdown",
   "id": "20de457c",
   "metadata": {},
   "source": [
    "make function take input string return reverse of string , length of string , no of vowels"
   ]
  },
  {
   "cell_type": "code",
   "execution_count": null,
   "id": "075151bb",
   "metadata": {
    "vscode": {
     "languageId": "plaintext"
    }
   },
   "outputs": [],
   "source": [
    "def analyze_string(s):\n",
    "    reversed_str = ''.join(reversed(s))  \n",
    "    length = len(s)\n",
    "    vowel_count = sum(c in 'aeiouAEIOU' for c in s)  \n",
    "\n",
    "    return reversed_str, length, vowel_count\n",
    "\n",
    "user_input = input(\"Enter a string: \")\n",
    "rev, length, vowels = analyze_string(user_input)\n",
    "\n",
    "print(\"Reversed string:\", rev)\n",
    "print(\"Length of string:\", length)\n",
    "print(\"Number of vowels:\", vowels)\n"
   ]
  },
  {
   "cell_type": "markdown",
   "id": "2e1b0280",
   "metadata": {},
   "source": [
    "the user will enter his grade and give it gpa as a number from :\n",
    "1. Greater than or equal 90 ___> A\n",
    "2.  From 85 to 90 __> B\n",
    "3. From 75 to 85 __> C\n",
    "4. From 65 to 75 __> D\n",
    "5. Below 65 __> fail"
   ]
  },
  {
   "cell_type": "code",
   "execution_count": null,
   "id": "0a936a54",
   "metadata": {
    "vscode": {
     "languageId": "plaintext"
    }
   },
   "outputs": [],
   "source": [
    "def get_gpa(grade):\n",
    "    if grade >= 90:\n",
    "        return \"A\"\n",
    "    elif 85 <= grade < 90:\n",
    "        return \"B\"\n",
    "    elif 75 <= grade < 85:\n",
    "        return \"C\"\n",
    "    elif 65 <= grade < 75:\n",
    "        return \"D\"\n",
    "    else:\n",
    "        return \"Fail\"\n",
    "\n",
    "\n",
    "grade = float(input(\"Enter your grade: \"))\n",
    "gpa = get_gpa(grade)\n",
    "print(\"Your GPA is:\", gpa)\n"
   ]
  },
  {
   "cell_type": "markdown",
   "id": "616501d8",
   "metadata": {},
   "source": [
    "Given a list of numbers, write a function that:\n",
    "\n",
    "Filters even numbers\n",
    "\n",
    "Squares them\n",
    "\n",
    "Returns only those > 20\n",
    "\n",
    "\n",
    "Use filter(), map(), and lambda.\n",
    "\n",
    "numbers = [1, 2, 3, 4, 5, 6]\n",
    "# Output: [36]  \n",
    "# Because 6 is even, \n",
    "6^2 = 36 > 20"
   ]
  },
  {
   "cell_type": "code",
   "execution_count": null,
   "id": "33bb50ef",
   "metadata": {
    "vscode": {
     "languageId": "plaintext"
    }
   },
   "outputs": [],
   "source": [
    "def process_numbers(numbers):\n",
    "    \n",
    "    even_numbers = filter(lambda x: x % 2 == 0, numbers)\n",
    "    \n",
    "    \n",
    "    squared = map(lambda x: x ** 2, even_numbers)\n",
    "    \n",
    "    \n",
    "    result = list(filter(lambda x: x > 20, squared))\n",
    "    \n",
    "    return result\n",
    "\n",
    "\n",
    "numbers = [2,4,5,7,8,9,10,12,20]\n",
    "print(process_numbers(numbers))  \n"
   ]
  },
  {
   "cell_type": "markdown",
   "id": "ac2fba8d",
   "metadata": {},
   "source": [
    "User enter list of string and make function take list as a input group them by anagram  : words that have same characters but not same order inverse"
   ]
  },
  {
   "cell_type": "code",
   "execution_count": null,
   "id": "ba1b0655",
   "metadata": {
    "vscode": {
     "languageId": "plaintext"
    }
   },
   "outputs": [],
   "source": [
    "def group_strings(s):\n",
    "    groups = {}  \n",
    "\n",
    "    for word in s:\n",
    "        key = ''.join(sorted(word))  \n",
    "        if key in groups:\n",
    "            groups[key].append(word)\n",
    "        else:\n",
    "            groups[key] = [word]\n",
    "\n",
    "    return list(groups.values())\n",
    "\n",
    "\n",
    "words = [\"eat\",\"tea\" ,\"ate\", \"bat\", \"tab\"]\n",
    "\n",
    "result = group_strings(words)\n",
    "print(result)\n",
    "\n"
   ]
  }
 ],
 "metadata": {
  "language_info": {
   "name": "python"
  }
 },
 "nbformat": 4,
 "nbformat_minor": 5
}
