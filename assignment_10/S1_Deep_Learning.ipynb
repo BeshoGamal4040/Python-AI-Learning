{
  "cells": [
    {
      "cell_type": "code",
      "execution_count": 19,
      "metadata": {
        "id": "2RjYDSqgj8Fa"
      },
      "outputs": [],
      "source": [
        "import numpy as np"
      ]
    },
    {
      "cell_type": "code",
      "execution_count": 20,
      "metadata": {
        "id": "b3C3kFd_kEAt"
      },
      "outputs": [],
      "source": [
        "def sigmoid(z):\n",
        "  return 1/(1+np.exp(-z))"
      ]
    },
    {
      "cell_type": "code",
      "execution_count": 21,
      "metadata": {
        "id": "95rQbNONkO17"
      },
      "outputs": [],
      "source": [
        "def sigmoid_derivative(z):\n",
        "  return sigmoid(z) * (1-sigmoid(z))"
      ]
    },
    {
      "cell_type": "code",
      "execution_count": 22,
      "metadata": {
        "id": "GKshrSxPkfEF"
      },
      "outputs": [],
      "source": [
        "def perceptron(inputs, weights,bias):\n",
        "  z=np.dot(inputs,weights)+bias\n",
        "  return z"
      ]
    },
    {
      "cell_type": "code",
      "execution_count": 23,
      "metadata": {
        "id": "v9FuGVyRksYP"
      },
      "outputs": [],
      "source": [
        "def activate(z):\n",
        "  return sigmoid(z)"
      ]
    },
    {
      "cell_type": "code",
      "execution_count": 24,
      "metadata": {
        "id": "aJvXE_4Ikyca"
      },
      "outputs": [],
      "source": [
        "def compute_error(y_pred,y_actual):\n",
        "  return np.mean((y_pred-y_actual)**2)"
      ]
    },
    {
      "cell_type": "code",
      "execution_count": 25,
      "metadata": {
        "id": "pz78iE91lAGM"
      },
      "outputs": [],
      "source": [
        "def gradient_descent(inputs,weights,bias,y_pred,y_actual,lr=0.01):\n",
        "  error_gradient=y_pred-y_actual\n",
        "\n",
        "  weights_gradient=np.dot(inputs.T,error_gradient*sigmoid_derivative(y_pred))\n",
        "\n",
        "  bias_gradient=np.sum(error_gradient*sigmoid_derivative(y_pred))\n",
        "\n",
        "  weights -= lr*weights_gradient\n",
        "  bias -= lr*bias_gradient\n",
        "\n",
        "  return weights, bias"
      ]
    },
    {
      "cell_type": "code",
      "execution_count": 26,
      "metadata": {
        "id": "t-nSvO6YntLF"
      },
      "outputs": [],
      "source": [
        "def gradient_descent_epochs(inputs,weights,bias,y_pred,y_actual,lr=0.01,epochs=10):\n",
        "  for epoch in range(epochs):\n",
        "        z = perceptron(inputs, weights, bias)\n",
        "        y_pred = activate(z)\n",
        "        cost = compute_error(y_pred, y_actual)\n",
        "\n",
        "        weights, bias = gradient_descent(inputs, weights, bias, y_pred, y_actual, lr)\n",
        "\n",
        "        if epoch % 2 == 0:\n",
        "            print(f\"Epoch {epoch}, Cost: {cost:.6f}\")\n",
        "\n",
        "  return weights, bias"
      ]
    },
    {
      "cell_type": "code",
      "execution_count": 27,
      "metadata": {
        "id": "bzGTjwbin1JA"
      },
      "outputs": [],
      "source": [
        "def gradient_descent_precision(inputs,weights,bias,y_pred,y_actual,lr=0.01,precision=0.000000001):\n",
        "  prev_cost = 100000000\n",
        "  while True:\n",
        "        z = perceptron(inputs, weights, bias)\n",
        "        y_pred = activate(z)\n",
        "        cost = compute_error(y_pred, y_actual)\n",
        "\n",
        "        if abs(prev_cost - cost) < precision:\n",
        "            break\n",
        "\n",
        "        prev_cost = cost\n",
        "        weights, bias = gradient_descent(inputs, weights, bias, y_pred, y_actual, lr)\n",
        "\n",
        "  return weights, bias"
      ]
    },
    {
      "cell_type": "code",
      "execution_count": 28,
      "metadata": {
        "id": "DZN21qnYl-qC"
      },
      "outputs": [],
      "source": [
        "inputs=np.array([[0.5,0.3],\n",
        "                 [0.2,0.1],\n",
        "                 [0.6,0.4]])\n",
        "\n",
        "y_actual=np.array([1,0,1])"
      ]
    },
    {
      "cell_type": "code",
      "execution_count": 29,
      "metadata": {
        "colab": {
          "base_uri": "https://localhost:8080/"
        },
        "id": "lUOsNb1smYgw",
        "outputId": "e4dc4197-e68c-4ff2-8254-30916b3c23d4"
      },
      "outputs": [
        {
          "output_type": "stream",
          "name": "stdout",
          "text": [
            "Weights: [0.11936038 0.09177451]\n",
            "Bias: [0.01055764]\n"
          ]
        }
      ],
      "source": [
        "weights=np.random.rand(2)\n",
        "bias=np.random.rand(1)\n",
        "print(f\"Weights: {weights}\")\n",
        "print(f\"Bias: {bias}\")"
      ]
    },
    {
      "cell_type": "code",
      "execution_count": 30,
      "metadata": {
        "id": "R8i_Fml2mkqE"
      },
      "outputs": [],
      "source": [
        "z=perceptron(inputs,weights,bias)"
      ]
    },
    {
      "cell_type": "code",
      "execution_count": 31,
      "metadata": {
        "id": "Rwer-gqWmowF"
      },
      "outputs": [],
      "source": [
        "y_pred=activate(z)"
      ]
    },
    {
      "cell_type": "code",
      "execution_count": 32,
      "metadata": {
        "colab": {
          "base_uri": "https://localhost:8080/"
        },
        "id": "kLJ2ZSL3mrbP",
        "outputId": "6eb8eb9c-7e10-4793-9b29-9bcf490863d1"
      },
      "outputs": [
        {
          "output_type": "stream",
          "name": "stdout",
          "text": [
            "Cost: 0.236\n"
          ]
        }
      ],
      "source": [
        "cost=compute_error(y_pred,y_actual)\n",
        "print(f\"Cost: {cost:.3f}\")"
      ]
    },
    {
      "cell_type": "code",
      "execution_count": 33,
      "metadata": {
        "id": "CDx8Wl9em5yB",
        "colab": {
          "base_uri": "https://localhost:8080/"
        },
        "outputId": "d7433455-7e07-47b0-d2ae-8a2c2c01e685"
      },
      "outputs": [
        {
          "output_type": "stream",
          "name": "stdout",
          "text": [
            "Epoch 0, Cost: 0.236129\n",
            "Epoch 2, Cost: 0.235789\n",
            "Epoch 4, Cost: 0.235451\n",
            "Epoch 6, Cost: 0.235116\n",
            "Epoch 8, Cost: 0.234784\n",
            "Epoch 10, Cost: 0.234455\n",
            "Epoch 12, Cost: 0.234128\n",
            "Epoch 14, Cost: 0.233805\n",
            "Epoch 16, Cost: 0.233483\n",
            "Epoch 18, Cost: 0.233165\n"
          ]
        }
      ],
      "source": [
        "weights_1,bias_1=gradient_descent_epochs(inputs,weights,bias,y_pred,y_actual,epochs=20)"
      ]
    },
    {
      "cell_type": "code",
      "execution_count": 34,
      "metadata": {
        "colab": {
          "base_uri": "https://localhost:8080/"
        },
        "id": "TxfN1m2VnCwv",
        "outputId": "c4c6895c-53ec-4dbc-c1a9-d8446508e352"
      },
      "outputs": [
        {
          "output_type": "stream",
          "name": "stdout",
          "text": [
            "Updated Weights for gradient_descent_epochs : [0.13857946 0.10465591]\n",
            "Updated Bias for gradient_descent_epochs : [0.0302115]\n"
          ]
        }
      ],
      "source": [
        "print(f\"Updated Weights for gradient_descent_epochs : {weights_1}\")\n",
        "print(f\"Updated Bias for gradient_descent_epochs : {bias_1}\")"
      ]
    },
    {
      "cell_type": "code",
      "execution_count": 35,
      "metadata": {
        "id": "OLIo4guunLte"
      },
      "outputs": [],
      "source": [
        "weights_2,bias_2=gradient_descent_precision(inputs,weights,bias,y_pred,y_actual)"
      ]
    },
    {
      "cell_type": "code",
      "source": [
        "print(f\"Updated Weights for gradient_descent_precision : {weights_2}\")\n",
        "print(f\"Updated Bias for gradient_descent_precision : {bias_2}\")"
      ],
      "metadata": {
        "colab": {
          "base_uri": "https://localhost:8080/"
        },
        "id": "hGW0xJNHvcYl",
        "outputId": "cf409733-eaa4-42aa-8dfe-dedc78669a7b"
      },
      "execution_count": 36,
      "outputs": [
        {
          "output_type": "stream",
          "name": "stdout",
          "text": [
            "Updated Weights for gradient_descent_precision : [18.10351656 12.80720225]\n",
            "Updated Bias for gradient_descent_precision : [-8.92761813]\n"
          ]
        }
      ]
    }
  ],
  "metadata": {
    "colab": {
      "provenance": []
    },
    "kernelspec": {
      "display_name": "Python 3",
      "name": "python3"
    },
    "language_info": {
      "name": "python",
      "version": "3.10.9"
    }
  },
  "nbformat": 4,
  "nbformat_minor": 0
}