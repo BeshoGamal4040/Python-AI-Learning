{
 "cells": [
  {
   "cell_type": "code",
   "execution_count": 20,
   "id": "6de9f804",
   "metadata": {},
   "outputs": [],
   "source": [
    "import numpy as np\n",
    "import pandas as pd\n",
    "from sklearn.datasets import load_iris\n",
    "from sklearn.model_selection import train_test_split, GridSearchCV\n",
    "from sklearn.tree import DecisionTreeClassifier\n",
    "from sklearn.metrics import classification_report, accuracy_score\n",
    "from sklearn.naive_bayes import GaussianNB, MultinomialNB, ComplementNB\n"
   ]
  },
  {
   "cell_type": "code",
   "execution_count": 21,
   "id": "c173e399",
   "metadata": {},
   "outputs": [],
   "source": [
    "iris = load_iris()\n",
    "df = pd.DataFrame(iris.data, columns=iris.feature_names)\n",
    "df['target'] = iris.target\n",
    "\n"
   ]
  },
  {
   "cell_type": "code",
   "execution_count": 9,
   "id": "21c56e34",
   "metadata": {},
   "outputs": [],
   "source": [
    "df = df.drop_duplicates()"
   ]
  },
  {
   "cell_type": "code",
   "execution_count": 15,
   "id": "ee6d1945",
   "metadata": {},
   "outputs": [
    {
     "name": "stdout",
     "output_type": "stream",
     "text": [
      "Number of outliers (IQR): 4\n"
     ]
    }
   ],
   "source": [
    "Q1 = df.quantile(0.25)\n",
    "Q3 = df.quantile(0.75)\n",
    "IQR = Q3 - Q1\n",
    "\n",
    "outliers_iqr = ((df < (Q1 - 1.5 * IQR)) | (df > (Q3 + 1.5 * IQR))).any(axis=1)\n",
    "print(\"Number of outliers (IQR):\", outliers_iqr.sum())"
   ]
  },
  {
   "cell_type": "code",
   "execution_count": 16,
   "id": "f1d21e37",
   "metadata": {},
   "outputs": [],
   "source": [
    "df = df[~((df < (Q1 - 1.5 * IQR)) | (df > (Q3 + 1.5 * IQR))).any(axis=1)]\n"
   ]
  },
  {
   "cell_type": "code",
   "execution_count": 22,
   "id": "bd42b557",
   "metadata": {},
   "outputs": [],
   "source": [
    "X = df.drop([\"target\"], axis=1)\n",
    "y = df[\"target\"]\n",
    "\n",
    "X_train, X_test, y_train, y_test = train_test_split(\n",
    "    X, y, test_size=0.2, random_state=42, stratify=y\n",
    ")\n"
   ]
  },
  {
   "cell_type": "code",
   "execution_count": 23,
   "id": "a507bb58",
   "metadata": {},
   "outputs": [],
   "source": [
    "from sklearn.naive_bayes import GaussianNB, MultinomialNB, ComplementNB\n",
    "from sklearn.model_selection import GridSearchCV\n",
    "from sklearn.metrics import classification_report, accuracy_score\n",
    "\n",
    "\n",
    "models = {\n",
    "    \"GaussianNB\": GaussianNB(),\n",
    "    \"MultinomialNB\": MultinomialNB(),\n",
    "    \"ComplementNB\": ComplementNB(),\n",
    "}\n",
    "\n",
    "\n",
    "param_grids = {\n",
    "    \"GaussianNB\": {\n",
    "        \"var_smoothing\": [1e-9, 1e-8, 1e-7, 1e-6]\n",
    "    },\n",
    "    \"MultinomialNB\": {\n",
    "        \"alpha\": [0.1, 0.5, 1.0, 2.0],\n",
    "        \"fit_prior\": [True, False]\n",
    "    },\n",
    "    \"ComplementNB\": {\n",
    "        \"alpha\": [0.1, 0.5, 1.0, 2.0],\n",
    "        \"fit_prior\": [True, False],\n",
    "        \"norm\": [True, False]\n",
    "    }\n",
    "}\n"
   ]
  },
  {
   "cell_type": "code",
   "execution_count": 25,
   "id": "b9559611",
   "metadata": {},
   "outputs": [
    {
     "name": "stdout",
     "output_type": "stream",
     "text": [
      "\n",
      "🔍 Tuning GaussianNB...\n",
      "Best params: {'var_smoothing': 1e-09}\n",
      "CV score: 0.9583\n",
      "Test accuracy: 0.9667\n",
      "              precision    recall  f1-score   support\n",
      "\n",
      "           0       1.00      1.00      1.00        10\n",
      "           1       1.00      0.90      0.95        10\n",
      "           2       0.91      1.00      0.95        10\n",
      "\n",
      "    accuracy                           0.97        30\n",
      "   macro avg       0.97      0.97      0.97        30\n",
      "weighted avg       0.97      0.97      0.97        30\n",
      "\n",
      "\n",
      "🔍 Tuning MultinomialNB...\n",
      "Best params: {'alpha': 0.5, 'fit_prior': True}\n",
      "CV score: 0.9500\n",
      "Test accuracy: 1.0000\n",
      "              precision    recall  f1-score   support\n",
      "\n",
      "           0       1.00      1.00      1.00        10\n",
      "           1       1.00      1.00      1.00        10\n",
      "           2       1.00      1.00      1.00        10\n",
      "\n",
      "    accuracy                           1.00        30\n",
      "   macro avg       1.00      1.00      1.00        30\n",
      "weighted avg       1.00      1.00      1.00        30\n",
      "\n",
      "\n",
      "🔍 Tuning ComplementNB...\n",
      "Best params: {'alpha': 0.1, 'fit_prior': True, 'norm': False}\n",
      "CV score: 0.6667\n",
      "Test accuracy: 0.6667\n",
      "              precision    recall  f1-score   support\n",
      "\n",
      "           0       1.00      1.00      1.00        10\n",
      "           1       0.00      0.00      0.00        10\n",
      "           2       0.50      1.00      0.67        10\n",
      "\n",
      "    accuracy                           0.67        30\n",
      "   macro avg       0.50      0.67      0.56        30\n",
      "weighted avg       0.50      0.67      0.56        30\n",
      "\n"
     ]
    },
    {
     "name": "stderr",
     "output_type": "stream",
     "text": [
      "c:\\Users\\sigma\\miniconda3\\envs\\myenv\\lib\\site-packages\\sklearn\\metrics\\_classification.py:1565: UndefinedMetricWarning: Precision is ill-defined and being set to 0.0 in labels with no predicted samples. Use `zero_division` parameter to control this behavior.\n",
      "  _warn_prf(average, modifier, f\"{metric.capitalize()} is\", len(result))\n",
      "c:\\Users\\sigma\\miniconda3\\envs\\myenv\\lib\\site-packages\\sklearn\\metrics\\_classification.py:1565: UndefinedMetricWarning: Precision is ill-defined and being set to 0.0 in labels with no predicted samples. Use `zero_division` parameter to control this behavior.\n",
      "  _warn_prf(average, modifier, f\"{metric.capitalize()} is\", len(result))\n",
      "c:\\Users\\sigma\\miniconda3\\envs\\myenv\\lib\\site-packages\\sklearn\\metrics\\_classification.py:1565: UndefinedMetricWarning: Precision is ill-defined and being set to 0.0 in labels with no predicted samples. Use `zero_division` parameter to control this behavior.\n",
      "  _warn_prf(average, modifier, f\"{metric.capitalize()} is\", len(result))\n",
      "c:\\Users\\sigma\\miniconda3\\envs\\myenv\\lib\\site-packages\\sklearn\\metrics\\_classification.py:1565: UndefinedMetricWarning: Precision is ill-defined and being set to 0.0 in labels with no predicted samples. Use `zero_division` parameter to control this behavior.\n",
      "  _warn_prf(average, modifier, f\"{metric.capitalize()} is\", len(result))\n",
      "c:\\Users\\sigma\\miniconda3\\envs\\myenv\\lib\\site-packages\\sklearn\\metrics\\_classification.py:1565: UndefinedMetricWarning: Precision is ill-defined and being set to 0.0 in labels with no predicted samples. Use `zero_division` parameter to control this behavior.\n",
      "  _warn_prf(average, modifier, f\"{metric.capitalize()} is\", len(result))\n",
      "c:\\Users\\sigma\\miniconda3\\envs\\myenv\\lib\\site-packages\\sklearn\\metrics\\_classification.py:1565: UndefinedMetricWarning: Precision is ill-defined and being set to 0.0 in labels with no predicted samples. Use `zero_division` parameter to control this behavior.\n",
      "  _warn_prf(average, modifier, f\"{metric.capitalize()} is\", len(result))\n"
     ]
    }
   ],
   "source": [
    "best_models = {}\n",
    "results = {}\n",
    "\n",
    "for name, model in models.items():\n",
    "    print(f\"\\n🔍 Tuning {name}...\")\n",
    "    grid = GridSearchCV(model, param_grids[name], cv=5, scoring=\"accuracy\", n_jobs=-1)\n",
    "    grid.fit(X_train, y_train)\n",
    "    \n",
    " \n",
    "    best_models[name] = grid.best_estimator_\n",
    "    \n",
    "   \n",
    "    y_pred = grid.best_estimator_.predict(X_test)\n",
    "    \n",
    "  \n",
    "    results[name] = {\n",
    "        \"best_params\": grid.best_params_,\n",
    "        \"cv_score\": grid.best_score_,\n",
    "        \"test_accuracy\": accuracy_score(y_test, y_pred),\n",
    "        \"report\": classification_report(y_test, y_pred, output_dict=True)\n",
    "    }\n",
    "    \n",
    "  \n",
    "    print(f\"Best params: {grid.best_params_}\")\n",
    "    print(f\"CV score: {grid.best_score_:.4f}\")\n",
    "    print(f\"Test accuracy: {accuracy_score(y_test, y_pred):.4f}\")\n",
    "    print(classification_report(y_test, y_pred))\n"
   ]
  },
  {
   "cell_type": "markdown",
   "id": "84d43a44",
   "metadata": {},
   "source": [
    "# Deliverables:"
   ]
  },
  {
   "cell_type": "markdown",
   "id": "e928d9f4",
   "metadata": {},
   "source": [
    "## 1. Data Preprocessing\n",
    "\n",
    "The dataset was checked for common issues:\n",
    "\n",
    "Missing values: none found.\n",
    "\n",
    "Duplicates: 1 duplicate row was found. Removing it reduced model performance, so it was kept.\n",
    "\n",
    "Outliers: 4 detected via boxplots. Removing them also reduced model performance, so they were kept.\n",
    "\n",
    "Final dataset was therefore used without removing duplicates or outliers."
   ]
  },
  {
   "cell_type": "markdown",
   "id": "ac16c798",
   "metadata": {},
   "source": [
    "## 2. Methodology\n",
    "\n",
    "Target column: target\n",
    "\n",
    "Split into train and test sets: 80% training, 20% testing with stratification.\n",
    "\n",
    "Compared three Naive Bayes algorithms using hyperparameter tuning with cross-validation:\n",
    "\n",
    "GaussianNB (for continuous features)\n",
    "\n",
    "MultinomialNB (for count/discrete features)\n",
    "\n",
    "ComplementNB (variant designed for imbalanced data)\n",
    "\n",
    "Hyperparameters were tuned using GridSearchCV with 5-fold cross-validation. Models were evaluated on:\n",
    "\n",
    "Cross-validation accuracy\n",
    "\n",
    "Test accuracy\n",
    "\n",
    "Precision, Recall, F1-score"
   ]
  },
  {
   "cell_type": "markdown",
   "id": "6e0477cd",
   "metadata": {},
   "source": [
    "## 3. Results\n",
    "###  GaussianNB\n",
    "\n",
    "Best params: var_smoothing=1e-09\n",
    "\n",
    "CV score: 0.9583\n",
    "\n",
    "Test accuracy: 0.9667\n",
    "\n",
    "Classification report (Test set):\n",
    "\n",
    "Class 0: Precision=1.00, Recall=1.00\n",
    "\n",
    "Class 1: Precision=1.00, Recall=0.90\n",
    "\n",
    "Class 2: Precision=0.91, Recall=1.00\n",
    "\n",
    "Macro Avg F1-score: 0.97\n",
    "\n",
    " Performs very well, slight weakness in class 1 recall.\n",
    "\n",
    "###  MultinomialNB\n",
    "\n",
    "Best params: alpha=0.5, fit_prior=True\n",
    "\n",
    "CV score: 0.9500\n",
    "\n",
    "Test accuracy: 1.0000\n",
    "\n",
    "Classification report (Test set):\n",
    "\n",
    "All classes: Precision=1.00, Recall=1.00, F1=1.00\n",
    "\n",
    "Macro Avg F1-score: 1.00\n",
    "\n",
    "Best performing model — perfect classification on the test set.\n",
    "\n",
    "###  ComplementNB\n",
    "\n",
    "Best params: alpha=0.1, fit_prior=True, norm=False\n",
    "\n",
    "CV score: 0.6667\n",
    "\n",
    "Test accuracy: 0.6667\n",
    "\n",
    "Classification report (Test set):\n",
    "\n",
    "Class 0: Precision=1.00, Recall=1.00\n",
    "\n",
    "Class 1: Precision=0.00, Recall=0.00\n",
    "\n",
    "Class 2: Precision=0.50, Recall=1.00\n",
    "\n",
    "Macro Avg F1-score: 0.56\n",
    "\n",
    "Performs poorly — fails to predict class 1 correctly. Not suitable for this dataset."
   ]
  }
 ],
 "metadata": {
  "kernelspec": {
   "display_name": "myenv",
   "language": "python",
   "name": "python3"
  },
  "language_info": {
   "codemirror_mode": {
    "name": "ipython",
    "version": 3
   },
   "file_extension": ".py",
   "mimetype": "text/x-python",
   "name": "python",
   "nbconvert_exporter": "python",
   "pygments_lexer": "ipython3",
   "version": "3.10.18"
  }
 },
 "nbformat": 4,
 "nbformat_minor": 5
}
