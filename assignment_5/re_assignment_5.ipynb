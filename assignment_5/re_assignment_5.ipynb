{
 "cells": [
  {
   "cell_type": "markdown",
   "id": "1d7a12b0",
   "metadata": {},
   "source": [
    "load dataset and changle target name"
   ]
  },
  {
   "cell_type": "code",
   "execution_count": 2,
   "id": "1c16a00c",
   "metadata": {},
   "outputs": [
    {
     "name": "stdout",
     "output_type": "stream",
     "text": [
      "   1  60  RL    65   8450  Pave   NA  Reg  Lvl  AllPub  ... 0.8 NA.2   NA.3  \\\n",
      "0  2  20  RL  80.0   9600  Pave  NaN  Reg  Lvl  AllPub  ...   0  NaN    NaN   \n",
      "1  3  60  RL  68.0  11250  Pave  NaN  IR1  Lvl  AllPub  ...   0  NaN    NaN   \n",
      "2  4  70  RL  60.0   9550  Pave  NaN  IR1  Lvl  AllPub  ...   0  NaN    NaN   \n",
      "3  5  60  RL  84.0  14260  Pave  NaN  IR1  Lvl  AllPub  ...   0  NaN    NaN   \n",
      "4  6  50  RL  85.0  14115  Pave  NaN  IR1  Lvl  AllPub  ...   0  NaN  MnPrv   \n",
      "\n",
      "   NA.4  0.9 2.2  2008  WD   Normal  SalePrice  \n",
      "0   NaN    0   5  2007  WD   Normal     181500  \n",
      "1   NaN    0   9  2008  WD   Normal     223500  \n",
      "2   NaN    0   2  2006  WD  Abnorml     140000  \n",
      "3   NaN    0  12  2008  WD   Normal     250000  \n",
      "4  Shed  700  10  2009  WD   Normal     143000  \n",
      "\n",
      "[5 rows x 81 columns]\n",
      "<class 'pandas.core.frame.DataFrame'>\n",
      "RangeIndex: 1459 entries, 0 to 1458\n",
      "Data columns (total 81 columns):\n",
      " #   Column     Non-Null Count  Dtype  \n",
      "---  ------     --------------  -----  \n",
      " 0   1          1459 non-null   int64  \n",
      " 1   60         1459 non-null   int64  \n",
      " 2   RL         1459 non-null   object \n",
      " 3   65         1200 non-null   float64\n",
      " 4   8450       1459 non-null   int64  \n",
      " 5   Pave       1459 non-null   object \n",
      " 6   NA         91 non-null     object \n",
      " 7   Reg        1459 non-null   object \n",
      " 8   Lvl        1459 non-null   object \n",
      " 9   AllPub     1459 non-null   object \n",
      " 10  Inside     1459 non-null   object \n",
      " 11  Gtl        1459 non-null   object \n",
      " 12  CollgCr    1459 non-null   object \n",
      " 13  Norm       1459 non-null   object \n",
      " 14  Norm.1     1459 non-null   object \n",
      " 15  1Fam       1459 non-null   object \n",
      " 16  2Story     1459 non-null   object \n",
      " 17  7          1459 non-null   int64  \n",
      " 18  5          1459 non-null   int64  \n",
      " 19  2003       1459 non-null   int64  \n",
      " 20  2003.1     1459 non-null   int64  \n",
      " 21  Gable      1459 non-null   object \n",
      " 22  CompShg    1459 non-null   object \n",
      " 23  VinylSd    1459 non-null   object \n",
      " 24  VinylSd.1  1459 non-null   object \n",
      " 25  BrkFace    587 non-null    object \n",
      " 26  196        1451 non-null   float64\n",
      " 27  Gd         1459 non-null   object \n",
      " 28  TA         1459 non-null   object \n",
      " 29  PConc      1459 non-null   object \n",
      " 30  Gd.1       1422 non-null   object \n",
      " 31  TA.1       1422 non-null   object \n",
      " 32  No         1421 non-null   object \n",
      " 33  GLQ        1422 non-null   object \n",
      " 34  706        1459 non-null   int64  \n",
      " 35  Unf        1421 non-null   object \n",
      " 36  0          1459 non-null   int64  \n",
      " 37  150        1459 non-null   int64  \n",
      " 38  856        1459 non-null   int64  \n",
      " 39  GasA       1459 non-null   object \n",
      " 40  Ex         1459 non-null   object \n",
      " 41  Y          1459 non-null   object \n",
      " 42  SBrkr      1458 non-null   object \n",
      " 43  856.1      1459 non-null   int64  \n",
      " 44  854        1459 non-null   int64  \n",
      " 45  0.1        1459 non-null   int64  \n",
      " 46  1710       1459 non-null   int64  \n",
      " 47  1.1        1459 non-null   int64  \n",
      " 48  0.2        1459 non-null   int64  \n",
      " 49  2          1459 non-null   int64  \n",
      " 50  1.2        1459 non-null   int64  \n",
      " 51  3          1459 non-null   int64  \n",
      " 52  1.3        1459 non-null   int64  \n",
      " 53  Gd.2       1459 non-null   object \n",
      " 54  8          1459 non-null   int64  \n",
      " 55  Typ        1459 non-null   object \n",
      " 56  0.3        1459 non-null   int64  \n",
      " 57  NA.1       770 non-null    object \n",
      " 58  Attchd     1378 non-null   object \n",
      " 59  2003.2     1378 non-null   float64\n",
      " 60  RFn        1378 non-null   object \n",
      " 61  2.1        1459 non-null   int64  \n",
      " 62  548        1459 non-null   int64  \n",
      " 63  TA.2       1378 non-null   object \n",
      " 64  TA.3       1378 non-null   object \n",
      " 65  Y.1        1459 non-null   object \n",
      " 66  0.4        1459 non-null   int64  \n",
      " 67  61         1459 non-null   int64  \n",
      " 68  0.5        1459 non-null   int64  \n",
      " 69  0.6        1459 non-null   int64  \n",
      " 70  0.7        1459 non-null   int64  \n",
      " 71  0.8        1459 non-null   int64  \n",
      " 72  NA.2       7 non-null      object \n",
      " 73  NA.3       281 non-null    object \n",
      " 74  NA.4       54 non-null     object \n",
      " 75  0.9        1459 non-null   int64  \n",
      " 76  2.2        1459 non-null   int64  \n",
      " 77  2008       1459 non-null   int64  \n",
      " 78  WD         1459 non-null   object \n",
      " 79  Normal     1459 non-null   object \n",
      " 80  SalePrice  1459 non-null   int64  \n",
      "dtypes: float64(3), int64(35), object(43)\n",
      "memory usage: 923.4+ KB\n",
      "None\n",
      "                 1           60           65           8450            7  \\\n",
      "count  1459.000000  1459.000000  1200.000000    1459.000000  1459.000000   \n",
      "mean    731.000000    56.895134    70.054167   10518.244688     6.098698   \n",
      "std     421.321334    42.314997    24.294439    9984.540455     1.383270   \n",
      "min       2.000000    20.000000    21.000000    1300.000000     1.000000   \n",
      "25%     366.500000    20.000000    59.000000    7549.000000     5.000000   \n",
      "50%     731.000000    50.000000    69.500000    9480.000000     6.000000   \n",
      "75%    1095.500000    70.000000    80.000000   11603.000000     7.000000   \n",
      "max    1460.000000   190.000000   313.000000  215245.000000    10.000000   \n",
      "\n",
      "                 5         2003       2003.1          196          706  ...  \\\n",
      "count  1459.000000  1459.000000  1459.000000  1451.000000  1459.000000  ...   \n",
      "mean      5.575737  1971.246059  1984.853324   103.621640   443.459904  ...   \n",
      "std       1.113079    30.201821    20.647021   181.112397   456.202701  ...   \n",
      "min       1.000000  1872.000000  1950.000000     0.000000     0.000000  ...   \n",
      "25%       5.000000  1954.000000  1967.000000     0.000000     0.000000  ...   \n",
      "50%       5.000000  1973.000000  1994.000000     0.000000   383.000000  ...   \n",
      "75%       6.000000  2000.000000  2004.000000   165.500000   712.500000  ...   \n",
      "max       9.000000  2010.000000  2010.000000  1600.000000  5644.000000  ...   \n",
      "\n",
      "               0.4           61          0.5          0.6          0.7  \\\n",
      "count  1459.000000  1459.000000  1459.000000  1459.000000  1459.000000   \n",
      "mean     94.309116    46.650446    21.969157     3.411926    15.071282   \n",
      "std     125.357458    66.277681    61.137400    29.327247    55.775138   \n",
      "min       0.000000     0.000000     0.000000     0.000000     0.000000   \n",
      "25%       0.000000     0.000000     0.000000     0.000000     0.000000   \n",
      "50%       0.000000    25.000000     0.000000     0.000000     0.000000   \n",
      "75%     168.000000    68.000000     0.000000     0.000000     0.000000   \n",
      "max     857.000000   547.000000   552.000000   508.000000   480.000000   \n",
      "\n",
      "               0.8           0.9          2.2         2008      SalePrice  \n",
      "count  1459.000000   1459.000000  1459.000000  1459.000000    1459.000000  \n",
      "mean      2.760795     43.518849     6.324880  2007.815627  180902.293352  \n",
      "std      40.191018    496.291826     2.702182     1.328542   79466.457379  \n",
      "min       0.000000      0.000000     1.000000  2006.000000   34900.000000  \n",
      "25%       0.000000      0.000000     5.000000  2007.000000  129950.000000  \n",
      "50%       0.000000      0.000000     6.000000  2008.000000  163000.000000  \n",
      "75%       0.000000      0.000000     8.000000  2009.000000  214000.000000  \n",
      "max     738.000000  15500.000000    12.000000  2010.000000  755000.000000  \n",
      "\n",
      "[8 rows x 38 columns]\n"
     ]
    }
   ],
   "source": [
    "import pandas as pd\n",
    "from sklearn.model_selection import train_test_split\n",
    "from sklearn.linear_model import LinearRegression\n",
    "from sklearn.metrics import r2_score\n",
    "import matplotlib.pyplot as plt\n",
    "\n",
    "\n",
    "df = pd.read_csv(\"regression_data.csv\")\n",
    "\n",
    "df.columns = [str(col) for col in df.columns]\n",
    "\n",
    "\n",
    "df = df.rename(columns={df.columns[-1]: \"SalePrice\"})\n",
    "\n",
    "print(df.head())\n",
    "print(df.info())\n",
    "print(df.describe())"
   ]
  },
  {
   "cell_type": "markdown",
   "id": "4e3a782b",
   "metadata": {},
   "source": [
    "checking null and duplicates"
   ]
  },
  {
   "cell_type": "code",
   "execution_count": 3,
   "id": "a6cf7b33",
   "metadata": {},
   "outputs": [
    {
     "name": "stdout",
     "output_type": "stream",
     "text": [
      "1              0\n",
      "60             0\n",
      "RL             0\n",
      "65           259\n",
      "8450           0\n",
      "            ... \n",
      "2.2            0\n",
      "2008           0\n",
      "WD             0\n",
      "Normal         0\n",
      "SalePrice      0\n",
      "Length: 81, dtype: int64\n",
      "Duplicates: 0\n"
     ]
    }
   ],
   "source": [
    "print(df.isnull().sum())\n",
    "print(f'Duplicates: {df.duplicated().sum()}')\n"
   ]
  },
  {
   "cell_type": "markdown",
   "id": "29de47c4",
   "metadata": {},
   "source": [
    "droping null columns"
   ]
  },
  {
   "cell_type": "code",
   "execution_count": 4,
   "id": "5e6ceba9",
   "metadata": {},
   "outputs": [
    {
     "name": "stdout",
     "output_type": "stream",
     "text": [
      "1            0\n",
      "60           0\n",
      "RL           0\n",
      "8450         0\n",
      "Pave         0\n",
      "            ..\n",
      "2.2          0\n",
      "2008         0\n",
      "WD           0\n",
      "Normal       0\n",
      "SalePrice    0\n",
      "Length: 62, dtype: int64\n"
     ]
    }
   ],
   "source": [
    "df= df.dropna(axis=1)\n",
    "\n",
    "print(df.isnull().sum())"
   ]
  },
  {
   "cell_type": "markdown",
   "id": "ce4f79d5",
   "metadata": {},
   "source": [
    "one hot encoding for obeject values "
   ]
  },
  {
   "cell_type": "code",
   "execution_count": 5,
   "id": "f0048cbe",
   "metadata": {},
   "outputs": [
    {
     "name": "stdout",
     "output_type": "stream",
     "text": [
      "(1459, 190)\n",
      "   1  60   8450  7  5  2003  2003.1  706  0  150  ...  WD_ConLI  WD_ConLw  \\\n",
      "0  2  20   9600  6  8  1976    1976  978  0  284  ...     False     False   \n",
      "1  3  60  11250  7  5  2001    2002  486  0  434  ...     False     False   \n",
      "2  4  70   9550  7  5  1915    1970  216  0  540  ...     False     False   \n",
      "3  5  60  14260  8  5  2000    2000  655  0  490  ...     False     False   \n",
      "4  6  50  14115  5  5  1993    1995  732  0   64  ...     False     False   \n",
      "\n",
      "   WD_New  WD_Oth  WD_WD  Normal_AdjLand  Normal_Alloca  Normal_Family  \\\n",
      "0   False   False   True           False          False          False   \n",
      "1   False   False   True           False          False          False   \n",
      "2   False   False   True           False          False          False   \n",
      "3   False   False   True           False          False          False   \n",
      "4   False   False   True           False          False          False   \n",
      "\n",
      "   Normal_Normal  Normal_Partial  \n",
      "0           True           False  \n",
      "1           True           False  \n",
      "2          False           False  \n",
      "3           True           False  \n",
      "4           True           False  \n",
      "\n",
      "[5 rows x 190 columns]\n"
     ]
    }
   ],
   "source": [
    "df_encoded = pd.get_dummies(df, drop_first=True)\n",
    "\n",
    "# Check shape and sample\n",
    "print(df_encoded.shape)\n",
    "print(df_encoded.head())"
   ]
  },
  {
   "cell_type": "markdown",
   "id": "649cda73",
   "metadata": {},
   "source": [
    "checking the highest correaltions"
   ]
  },
  {
   "cell_type": "code",
   "execution_count": 6,
   "id": "453360f7",
   "metadata": {},
   "outputs": [
    {
     "name": "stdout",
     "output_type": "stream",
     "text": [
      "SalePrice          1.000000\n",
      "7                  0.790974\n",
      "1710               0.708599\n",
      "2.1                0.640383\n",
      "548                0.623400\n",
      "856                0.613760\n",
      "856.1              0.606197\n",
      "2                  0.560619\n",
      "8                  0.533680\n",
      "2003               0.522867\n",
      "2003.1             0.507047\n",
      "PConc_PConc        0.497702\n",
      "0.3                0.467319\n",
      "Gd_Gd              0.452458\n",
      "CollgCr_NridgHt    0.402229\n",
      "Name: SalePrice, dtype: float64\n"
     ]
    }
   ],
   "source": [
    "# Compute correlations with SalePrice\n",
    "correlation_with_target = df_encoded.corr()[\"SalePrice\"].sort_values(ascending=False)\n",
    "\n",
    "# Display top 15 correlations\n",
    "print(correlation_with_target.head(15))\n"
   ]
  },
  {
   "cell_type": "markdown",
   "id": "1ee09d80",
   "metadata": {},
   "source": [
    "selecting best features and testing model"
   ]
  },
  {
   "cell_type": "code",
   "execution_count": 7,
   "id": "2e3cbd70",
   "metadata": {},
   "outputs": [],
   "source": [
    "from sklearn.model_selection import train_test_split\n",
    "from sklearn.linear_model import LinearRegression\n",
    "from sklearn.metrics import r2_score\n",
    "import numpy as np\n",
    "\n",
    "# Exclude SalePrice from correlation list\n",
    "feature_ranking = correlation_with_target.drop(\"SalePrice\")\n",
    "\n",
    "\n",
    "\n",
    "selected_features = ['7', '1710', '2.1', '548', '856', '856.1', '2', '8', '2003', '2003.1','PConc_PConc','0.3','Gd_Gd','CollgCr_NridgHt']\n",
    "X = df_encoded[selected_features]\n",
    "y = df_encoded[\"SalePrice\"]\n",
    "y = np.log1p(df_encoded[\"SalePrice\"])"
   ]
  },
  {
   "cell_type": "code",
   "execution_count": 8,
   "id": "0f9b08bf",
   "metadata": {},
   "outputs": [],
   "source": [
    "from sklearn.preprocessing import StandardScaler\n",
    "\n",
    "\n",
    "X_train, X_test, y_train, y_test = train_test_split(\n",
    "        X, y, test_size=0.2, random_state=42\n",
    ")\n"
   ]
  },
  {
   "cell_type": "code",
   "execution_count": 9,
   "id": "7ca3d70e",
   "metadata": {},
   "outputs": [
    {
     "name": "stdout",
     "output_type": "stream",
     "text": [
      "0.8166875951816633\n"
     ]
    }
   ],
   "source": [
    "model = LinearRegression()\n",
    "model.fit(X_train, y_train)\n",
    "y_pred = model.predict(X_test)\n",
    "    \n",
    "r2 = r2_score(y_test, y_pred)\n",
    "\n",
    "\n",
    "# Show results\n",
    "\n",
    "print(r2)"
   ]
  },
  {
   "cell_type": "markdown",
   "id": "103edff1",
   "metadata": {},
   "source": [
    "1. Ridge Regression (L2 regularization)"
   ]
  },
  {
   "cell_type": "code",
   "execution_count": 10,
   "id": "cacdfe70",
   "metadata": {},
   "outputs": [
    {
     "name": "stdout",
     "output_type": "stream",
     "text": [
      "R² Ridge: 0.8166875950792027\n"
     ]
    }
   ],
   "source": [
    "from sklearn.linear_model import Ridge\n",
    "\n",
    "ridge = Ridge(alpha=0.0001)  # you can tune alpha\n",
    "ridge.fit(X_train, y_train)\n",
    "y_pred = ridge.predict(X_test)\n",
    "\n",
    "print(\"R² Ridge:\", r2_score(y_test, y_pred))\n"
   ]
  },
  {
   "cell_type": "markdown",
   "id": "43915b93",
   "metadata": {},
   "source": [
    "2. Lasso Regression (L1 regularization)"
   ]
  },
  {
   "cell_type": "code",
   "execution_count": 11,
   "id": "6de49ff4",
   "metadata": {},
   "outputs": [
    {
     "name": "stdout",
     "output_type": "stream",
     "text": [
      "R² Lasso: 0.8161219676842051\n"
     ]
    }
   ],
   "source": [
    "from sklearn.linear_model import Lasso\n",
    "\n",
    "lasso = Lasso(alpha=0.001, max_iter=10000)\n",
    "lasso.fit(X_train, y_train)\n",
    "y_pred = lasso.predict(X_test)\n",
    "\n",
    "print(\"R² Lasso:\", r2_score(y_test, y_pred))\n"
   ]
  },
  {
   "cell_type": "markdown",
   "id": "842a17ab",
   "metadata": {},
   "source": [
    "3. ElasticNet (mix of L1 & L2)"
   ]
  },
  {
   "cell_type": "code",
   "execution_count": 12,
   "id": "5cf4c5fc",
   "metadata": {},
   "outputs": [
    {
     "name": "stdout",
     "output_type": "stream",
     "text": [
      "R² ElasticNet: 0.8164773296997745\n"
     ]
    }
   ],
   "source": [
    "from sklearn.linear_model import ElasticNet\n",
    "\n",
    "enet = ElasticNet(alpha=0.001, l1_ratio=0.5, max_iter=1000)\n",
    "enet.fit(X_train, y_train)\n",
    "y_pred = enet.predict(X_test)\n",
    "\n",
    "print(\"R² ElasticNet:\", r2_score(y_test, y_pred))\n"
   ]
  },
  {
   "cell_type": "code",
   "execution_count": 16,
   "id": "4b492e62",
   "metadata": {},
   "outputs": [],
   "source": [
    "# 1) Convert booleans to int\n",
    "X = df_encoded.astype(float)  # ensures all numeric\n",
    "# OR: X = df_encoded.apply(pd.to_numeric)\n",
    "\n",
    "# 2) Select your features\n",
    "features = ['7', '1710', '2.1', '548', '856', '856.1', '2', '8', \n",
    "            '2003', '2003.1', 'PConc_PConc', '0.3', 'Gd_Gd', 'CollgCr_NridgHt']\n",
    "\n",
    "X = X[features]\n",
    "\n",
    "# 3) Train-test split\n",
    "from sklearn.model_selection import train_test_split\n",
    "X_train, X_test, y_train, y_test = train_test_split(X, y, test_size=0.2, random_state=42)\n",
    "\n",
    "# 4) Standardize AFTER splitting\n",
    "from sklearn.preprocessing import StandardScaler\n",
    "scaler = StandardScaler()\n",
    "X_train_std = scaler.fit_transform(X_train)\n",
    "X_test_std = scaler.transform(X_test)\n"
   ]
  },
  {
   "cell_type": "code",
   "execution_count": null,
   "id": "8a0b651e",
   "metadata": {},
   "outputs": [
    {
     "name": "stdout",
     "output_type": "stream",
     "text": [
      "SGD | penalty=l2 | alpha=0.01 | eta0=0.001 => R² = 0.8180\n",
      "SGD | penalty=elasticnet | alpha=0.001 | eta0=0.001 => R² = 0.8177\n",
      "SGD | penalty=l2 | alpha=0.001 | eta0=0.001 => R² = 0.8177\n",
      "SGD | penalty=l1 | alpha=0.0001 | eta0=0.001 => R² = 0.8176\n",
      "SGD | penalty=elasticnet | alpha=0.0001 | eta0=0.001 => R² = 0.8176\n",
      "SGD | penalty=l2 | alpha=0.0001 | eta0=0.001 => R² = 0.8176\n",
      "SGD | penalty=elasticnet | alpha=0.01 | eta0=0.001 => R² = 0.8175\n",
      "SGD | penalty=l1 | alpha=0.001 | eta0=0.001 => R² = 0.8174\n",
      "SGD | penalty=l1 | alpha=0.01 | eta0=0.001 => R² = 0.8130\n",
      "SGD | penalty=elasticnet | alpha=0.0001 | eta0=0.01 => R² = 0.8088\n"
     ]
    }
   ],
   "source": [
    "from sklearn.linear_model import SGDRegressor\n",
    "from sklearn.metrics import r2_score\n",
    "import numpy as np\n",
    "\n",
    "# Define parameters to try\n",
    "penalties = [\"l1\", \"l2\", \"elasticnet\"]\n",
    "alphas = [0.0001, 0.001, 0.01]\n",
    "etas = [0.001, 0.01, 0.1]  # learning rates\n",
    "\n",
    "best_results = []\n",
    "\n",
    "for penalty in penalties:\n",
    "    for alpha in alphas:\n",
    "        for eta in etas:\n",
    "            sgd = SGDRegressor(\n",
    "                penalty=penalty,\n",
    "                alpha=alpha,\n",
    "                learning_rate=\"constant\",\n",
    "                eta0=eta,\n",
    "                max_iter=10000,\n",
    "                tol=1e-5,\n",
    "                random_state=42\n",
    "            )\n",
    "            sgd.fit(X_train_std, y_train)\n",
    "            y_pred = sgd.predict(X_test_std)\n",
    "            score = r2_score(y_test, y_pred)\n",
    "            best_results.append((penalty, alpha, eta, score))\n",
    "\n",
    "# Sort and print top configs\n",
    "best_results.sort(key=lambda x: x[3], reverse=True)\n",
    "for penalty, alpha, eta, score in best_results[:10]:\n",
    "    print(f\"SGD | penalty={penalty} | alpha={alpha} | eta0={eta} => R² = {score:.4f}\")\n"
   ]
  }
 ],
 "metadata": {
  "kernelspec": {
   "display_name": "myenv",
   "language": "python",
   "name": "python3"
  },
  "language_info": {
   "codemirror_mode": {
    "name": "ipython",
    "version": 3
   },
   "file_extension": ".py",
   "mimetype": "text/x-python",
   "name": "python",
   "nbconvert_exporter": "python",
   "pygments_lexer": "ipython3",
   "version": "3.10.18"
  }
 },
 "nbformat": 4,
 "nbformat_minor": 5
}
