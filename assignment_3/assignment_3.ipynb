{
 "cells": [
  {
   "cell_type": "markdown",
   "id": "fbbafe58",
   "metadata": {},
   "source": [
    "1-Read data and show data information\n",
    " \n",
    "2-Check columns datatype are true or not , convert false one\n",
    "\n",
    "3-Get missing values and deal with it by dropping or filling\n",
    "\n",
    "4-Drop unnecessary columns and check value counts for categorical columns\n",
    "\n",
    "5-Group by different columns to do some analysis for example : by month or year to get most paid salary trends and analyze average salary by country or region\n",
    "\n",
    "6-List top 5 most paid job titles"
   ]
  },
  {
   "cell_type": "code",
   "execution_count": null,
   "id": "60151e75",
   "metadata": {},
   "outputs": [
    {
     "name": "stdout",
     "output_type": "stream",
     "text": [
      "job_title\n",
      "Data Engineer                121828.416337\n",
      "Machine Learning Engineer    120732.151003\n",
      "AI Specialist                120487.824900\n",
      "AI Product Manager           120434.364964\n",
      "AI Architect                 119725.429039\n",
      "Name: salary_usd, dtype: float64\n"
     ]
    }
   ],
   "source": [
    "import pandas as pd\n",
    "\n",
    "#1\n",
    "\n",
    "df1 =  pd.read_csv('ai_job_dataset.csv')\n",
    "df2 =  pd.read_csv('ai_job_dataset1.csv')\n",
    "df = pd.concat([df1, df2], ignore_index=True)\n",
    "print(df.head())\n",
    "print(df.info())\n",
    "\n",
    "#2\n",
    "\n",
    "print(df.dtypes)\n",
    "df['posting_date'] = pd.to_datetime(df['posting_date'], errors='coerce')\n",
    "df['application_deadline'] = pd.to_datetime(df['application_deadline'], errors='coerce')\n",
    "\n",
    "#3,4\n",
    "\n",
    "print(df.isnull().sum())\n",
    "df = df.drop(columns=['salary_local', 'job_id'], errors='ignore')\n",
    "cat_cols = df.select_dtypes(include='object').columns\n",
    "print(cat_cols)\n",
    "for col in cat_cols:\n",
    "    print(f\"\\nValue counts for {col}:\\n\")\n",
    "    print(df[col].value_counts().head(10))  \n",
    "\n",
    "#5\n",
    "\n",
    "avg_salary_by_country = df.groupby('company_location')['salary_usd'].mean().sort_values(ascending=False)\n",
    "print(avg_salary_by_country.head(10))  \n",
    "\n",
    "salary_by_experience = df.groupby('experience_level')['salary_usd'].mean().sort_values(ascending=False)\n",
    "print(salary_by_experience)\n",
    "\n",
    "#6\n",
    "\n",
    "top_paid_jobs = df.groupby('job_title')['salary_usd'].mean().sort_values(ascending=False).head(5)\n",
    "print(top_paid_jobs)\n",
    "\n",
    "\n"
   ]
  }
 ],
 "metadata": {
  "kernelspec": {
   "display_name": "myenv",
   "language": "python",
   "name": "python3"
  },
  "language_info": {
   "codemirror_mode": {
    "name": "ipython",
    "version": 3
   },
   "file_extension": ".py",
   "mimetype": "text/x-python",
   "name": "python",
   "nbconvert_exporter": "python",
   "pygments_lexer": "ipython3",
   "version": "3.10.18"
  }
 },
 "nbformat": 4,
 "nbformat_minor": 5
}
