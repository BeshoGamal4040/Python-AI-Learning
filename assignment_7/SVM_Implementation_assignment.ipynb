{
 "cells": [
  {
   "cell_type": "markdown",
   "id": "7179a3d9",
   "metadata": {},
   "source": [
    "Part 1: Data Preparation"
   ]
  },
  {
   "cell_type": "code",
   "execution_count": 90,
   "id": "1aae87d3",
   "metadata": {},
   "outputs": [],
   "source": [
    "import pandas as pd\n",
    "import numpy as np\n",
    "from sklearn.model_selection import train_test_split, GridSearchCV, RandomizedSearchCV, cross_val_score\n",
    "from sklearn.preprocessing import StandardScaler\n",
    "from sklearn.svm import SVC\n",
    "from sklearn.metrics import accuracy_score, precision_score, recall_score, f1_score, confusion_matrix, classification_report\n",
    "import matplotlib.pyplot as plt\n",
    "import seaborn as sns"
   ]
  },
  {
   "cell_type": "code",
   "execution_count": 91,
   "id": "5e633e51",
   "metadata": {},
   "outputs": [
    {
     "name": "stdout",
     "output_type": "stream",
     "text": [
      "<class 'pandas.core.frame.DataFrame'>\n",
      "RangeIndex: 1599 entries, 0 to 1598\n",
      "Data columns (total 12 columns):\n",
      " #   Column                Non-Null Count  Dtype  \n",
      "---  ------                --------------  -----  \n",
      " 0   fixed acidity         1599 non-null   float64\n",
      " 1   volatile acidity      1599 non-null   float64\n",
      " 2   citric acid           1599 non-null   float64\n",
      " 3   residual sugar        1599 non-null   float64\n",
      " 4   chlorides             1599 non-null   float64\n",
      " 5   free sulfur dioxide   1599 non-null   float64\n",
      " 6   total sulfur dioxide  1599 non-null   float64\n",
      " 7   density               1599 non-null   float64\n",
      " 8   pH                    1599 non-null   float64\n",
      " 9   sulphates             1599 non-null   float64\n",
      " 10  alcohol               1599 non-null   float64\n",
      " 11  quality               1599 non-null   int64  \n",
      "dtypes: float64(11), int64(1)\n",
      "memory usage: 150.0 KB\n",
      "None\n",
      "       fixed acidity  volatile acidity  citric acid  residual sugar  \\\n",
      "count    1599.000000       1599.000000  1599.000000     1599.000000   \n",
      "mean        8.319637          0.527821     0.270976        2.538806   \n",
      "std         1.741096          0.179060     0.194801        1.409928   \n",
      "min         4.600000          0.120000     0.000000        0.900000   \n",
      "25%         7.100000          0.390000     0.090000        1.900000   \n",
      "50%         7.900000          0.520000     0.260000        2.200000   \n",
      "75%         9.200000          0.640000     0.420000        2.600000   \n",
      "max        15.900000          1.580000     1.000000       15.500000   \n",
      "\n",
      "         chlorides  free sulfur dioxide  total sulfur dioxide      density  \\\n",
      "count  1599.000000          1599.000000           1599.000000  1599.000000   \n",
      "mean      0.087467            15.874922             46.467792     0.996747   \n",
      "std       0.047065            10.460157             32.895324     0.001887   \n",
      "min       0.012000             1.000000              6.000000     0.990070   \n",
      "25%       0.070000             7.000000             22.000000     0.995600   \n",
      "50%       0.079000            14.000000             38.000000     0.996750   \n",
      "75%       0.090000            21.000000             62.000000     0.997835   \n",
      "max       0.611000            72.000000            289.000000     1.003690   \n",
      "\n",
      "                pH    sulphates      alcohol      quality  \n",
      "count  1599.000000  1599.000000  1599.000000  1599.000000  \n",
      "mean      3.311113     0.658149    10.422983     5.636023  \n",
      "std       0.154386     0.169507     1.065668     0.807569  \n",
      "min       2.740000     0.330000     8.400000     3.000000  \n",
      "25%       3.210000     0.550000     9.500000     5.000000  \n",
      "50%       3.310000     0.620000    10.200000     6.000000  \n",
      "75%       3.400000     0.730000    11.100000     6.000000  \n",
      "max       4.010000     2.000000    14.900000     8.000000  \n"
     ]
    }
   ],
   "source": [
    "url = \"https://archive.ics.uci.edu/ml/machine-learning-databases/wine-quality/winequality-red.csv\"\n",
    "df = pd.read_csv(url, delimiter=';')\n",
    "\n",
    "\n",
    "print(df.info())\n",
    "print(df.describe())"
   ]
  },
  {
   "cell_type": "markdown",
   "id": "8510caae",
   "metadata": {},
   "source": [
    "Handle for missing values :"
   ]
  },
  {
   "cell_type": "code",
   "execution_count": 92,
   "id": "9a57e3b1",
   "metadata": {},
   "outputs": [],
   "source": [
    "df = df.dropna()"
   ]
  },
  {
   "cell_type": "markdown",
   "id": "641b6a1e",
   "metadata": {},
   "source": [
    "check and remove duplicates :"
   ]
  },
  {
   "cell_type": "code",
   "execution_count": 93,
   "id": "97b1b913",
   "metadata": {},
   "outputs": [
    {
     "name": "stdout",
     "output_type": "stream",
     "text": [
      "Number of duplicate rows: 240\n"
     ]
    }
   ],
   "source": [
    "\n",
    "duplicate_count = df.duplicated().sum()\n",
    "print(\"Number of duplicate rows:\", duplicate_count)\n",
    "\n"
   ]
  },
  {
   "cell_type": "markdown",
   "id": "18960526",
   "metadata": {},
   "source": [
    "Calculate correlation and remove unwanted features :"
   ]
  },
  {
   "cell_type": "code",
   "execution_count": 94,
   "id": "48a197c1",
   "metadata": {},
   "outputs": [
    {
     "name": "stdout",
     "output_type": "stream",
     "text": [
      "alcohol                 0.476166\n",
      "volatile acidity        0.390558\n",
      "sulphates               0.251397\n",
      "citric acid             0.226373\n",
      "total sulfur dioxide    0.185100\n",
      "density                 0.174919\n",
      "chlorides               0.128907\n",
      "fixed acidity           0.124052\n",
      "pH                      0.057731\n",
      "free sulfur dioxide     0.050656\n",
      "residual sugar          0.013732\n",
      "Name: quality, dtype: float64\n"
     ]
    },
    {
     "data": {
      "image/png": "[encoded data removed]",
      "text/plain": [
       "<Figure size 600x400 with 1 Axes>"
      ]
     },
     "metadata": {},
     "output_type": "display_data"
    }
   ],
   "source": [
    "import pandas as pd\n",
    "import matplotlib.pyplot as plt\n",
    "import seaborn as sns\n",
    "\n",
    "\n",
    "correlation = df.corr()['quality'].drop('quality')\n",
    "\n",
    "\n",
    "correlation_sorted = correlation.abs().sort_values(ascending=False)\n",
    "\n",
    "print(correlation_sorted)\n",
    "\n",
    "\n",
    "plt.figure(figsize=(6,4))\n",
    "sns.barplot(x=correlation_sorted.values, y=correlation_sorted.index)\n",
    "plt.title(\"Feature Correlation with Quality\")\n",
    "plt.show()\n"
   ]
  },
  {
   "cell_type": "code",
   "execution_count": 95,
   "id": "a3acc9aa",
   "metadata": {},
   "outputs": [
    {
     "name": "stdout",
     "output_type": "stream",
     "text": [
      "Selected features: ['fixed acidity', 'volatile acidity', 'citric acid', 'residual sugar', 'chlorides', 'free sulfur dioxide', 'total sulfur dioxide', 'density', 'pH', 'sulphates', 'alcohol']\n"
     ]
    }
   ],
   "source": [
    "threshold = 0.0\n",
    "selected_features = correlation[correlation.abs() >= threshold].index.tolist()\n",
    "\n",
    "print(\"Selected features:\", selected_features)"
   ]
  },
  {
   "cell_type": "markdown",
   "id": "a8d5180c",
   "metadata": {},
   "source": [
    "Binary classification: 0 = low quality (<=5), 1 = high quality (>=6)"
   ]
  },
  {
   "cell_type": "code",
   "execution_count": 96,
   "id": "95bbf8d9",
   "metadata": {},
   "outputs": [],
   "source": [
    "df[\"quality_binary\"] = df[\"quality\"].apply(lambda q: 1 if q >= 6 else 0)"
   ]
  },
  {
   "cell_type": "markdown",
   "id": "c4cbcaac",
   "metadata": {},
   "source": [
    "Visualize class distribution :"
   ]
  },
  {
   "cell_type": "code",
   "execution_count": 97,
   "id": "4eee836a",
   "metadata": {},
   "outputs": [
    {
     "data": {
      "image/png": "[encoded data removed]",
      "text/plain": [
       "<Figure size 800x500 with 1 Axes>"
      ]
     },
     "metadata": {},
     "output_type": "display_data"
    }
   ],
   "source": [
    "plt.figure(figsize=(8,5))\n",
    "sns.countplot(x='quality', data=df)\n",
    "plt.title('Wine Quality Distribution')\n",
    "plt.show()"
   ]
  },
  {
   "cell_type": "markdown",
   "id": "1ff28b67",
   "metadata": {},
   "source": [
    "Split the data into training (80%) and testing sets (20%) : "
   ]
  },
  {
   "cell_type": "code",
   "execution_count": 98,
   "id": "dd9bda75",
   "metadata": {},
   "outputs": [],
   "source": [
    "X = df.drop([\"quality\", \"quality_binary\"], axis=1)\n",
    "y = df[\"quality_binary\"]\n",
    "\n",
    "X_train, X_test, y_train, y_test = train_test_split(\n",
    "    X, y, test_size=0.2, random_state=42, stratify=y\n",
    ")\n"
   ]
  },
  {
   "cell_type": "markdown",
   "id": "09817a8c",
   "metadata": {},
   "source": [
    "Standardize features :"
   ]
  },
  {
   "cell_type": "code",
   "execution_count": 99,
   "id": "48c13c30",
   "metadata": {},
   "outputs": [],
   "source": [
    "scaler = StandardScaler()\n",
    "X_train = scaler.fit_transform(X_train)\n",
    "X_test = scaler.transform(X_test)"
   ]
  },
  {
   "cell_type": "markdown",
   "id": "ff886bb4",
   "metadata": {},
   "source": [
    "Check class imbalance :"
   ]
  },
  {
   "cell_type": "code",
   "execution_count": 100,
   "id": "0bb4bdbc",
   "metadata": {},
   "outputs": [
    {
     "name": "stdout",
     "output_type": "stream",
     "text": [
      "Imbalance ratio: 1.1491935483870968\n"
     ]
    }
   ],
   "source": [
    "class_counts = y.value_counts()\n",
    "imbalance_ratio = class_counts.max() / class_counts.min()\n",
    "print(\"Imbalance ratio:\", imbalance_ratio)"
   ]
  },
  {
   "cell_type": "markdown",
   "id": "15e6468e",
   "metadata": {},
   "source": [
    "Part 2: Model Training and Evaluation :"
   ]
  },
  {
   "cell_type": "code",
   "execution_count": 101,
   "id": "646fc67e",
   "metadata": {},
   "outputs": [
    {
     "name": "stdout",
     "output_type": "stream",
     "text": [
      "Baseline Accuracy: 0.7625\n",
      "Baseline Precision: 0.7686620753164309\n",
      "Baseline Recall: 0.7625\n",
      "Baseline F1: 0.7625927770616039\n"
     ]
    }
   ],
   "source": [
    "from sklearn.svm import SVC\n",
    "from sklearn.metrics import accuracy_score, precision_score, recall_score, f1_score, classification_report\n",
    "\n",
    "\n",
    "svm_baseline = SVC(random_state=42)\n",
    "svm_baseline.fit(X_train, y_train)\n",
    "\n",
    "\n",
    "y_pred_baseline = svm_baseline.predict(X_test)\n",
    "\n",
    "print(\"Baseline Accuracy:\", accuracy_score(y_test, y_pred_baseline))\n",
    "print(\"Baseline Precision:\", precision_score(y_test, y_pred_baseline, average='weighted'))\n",
    "print(\"Baseline Recall:\", recall_score(y_test, y_pred_baseline, average='weighted'))\n",
    "print(\"Baseline F1:\", f1_score(y_test, y_pred_baseline, average='weighted'))\n"
   ]
  },
  {
   "cell_type": "markdown",
   "id": "89a815a2",
   "metadata": {},
   "source": [
    "Part 3 — K-Fold Cross-Validation :"
   ]
  },
  {
   "cell_type": "code",
   "execution_count": 102,
   "id": "119787ee",
   "metadata": {},
   "outputs": [
    {
     "name": "stdout",
     "output_type": "stream",
     "text": [
      "Cross-validation accuracies: [0.77734375 0.73828125 0.7578125  0.765625   0.74509804]\n",
      "Average CV Accuracy: 0.7568321078431373\n"
     ]
    }
   ],
   "source": [
    "from sklearn.model_selection import cross_val_score, KFold\n",
    "\n",
    "kf = KFold(n_splits=5, shuffle=True, random_state=42)\n",
    "cv_scores = cross_val_score(svm_baseline, X_train, y_train, cv=kf, scoring='accuracy')\n",
    "\n",
    "print(\"Cross-validation accuracies:\", cv_scores)\n",
    "print(\"Average CV Accuracy:\", np.mean(cv_scores))\n"
   ]
  },
  {
   "cell_type": "markdown",
   "id": "a1096218",
   "metadata": {},
   "source": [
    "Part 4 — Hyperparameter Tuning : "
   ]
  },
  {
   "cell_type": "code",
   "execution_count": 103,
   "id": "53b8bd31",
   "metadata": {},
   "outputs": [
    {
     "name": "stdout",
     "output_type": "stream",
     "text": [
      "Best params (RandomizedSearchCV): {'kernel': 'rbf', 'gamma': np.float64(0.01), 'C': np.float64(100.0)}\n",
      "Best score: 0.7599785539215687\n",
      "Best params (GridSearchCV): {'C': 10, 'gamma': 0.1, 'kernel': 'rbf'}\n",
      "Best score: 0.7615441176470588\n"
     ]
    }
   ],
   "source": [
    "from sklearn.model_selection import RandomizedSearchCV, GridSearchCV\n",
    "\n",
    "# Define param grid for RandomizedSearchCV\n",
    "param_dist = {\n",
    "    'C': np.logspace(-3, 3, 7),\n",
    "    'gamma': np.logspace(-3, 3, 7),\n",
    "    'kernel': ['linear', 'rbf', 'poly', 'sigmoid']\n",
    "}\n",
    "\n",
    "random_search = RandomizedSearchCV(\n",
    "    SVC(), param_distributions=param_dist, n_iter=20, \n",
    "    scoring='accuracy', cv=5, random_state=42, n_jobs=-1\n",
    ")\n",
    "random_search.fit(X_train, y_train)\n",
    "print(\"Best params (RandomizedSearchCV):\", random_search.best_params_)\n",
    "print(\"Best score:\", random_search.best_score_)\n",
    "\n",
    "# GridSearchCV \n",
    "param_grid = {\n",
    "    'C': [0.1, 1, 10],\n",
    "    'gamma': [0.01, 0.1, 1],\n",
    "    'kernel': ['rbf']\n",
    "}\n",
    "\n",
    "grid_search = GridSearchCV(\n",
    "    SVC(), param_grid=param_grid, scoring='accuracy', cv=5, n_jobs=-1\n",
    ")\n",
    "grid_search.fit(X_train, y_train)\n",
    "print(\"Best params (GridSearchCV):\", grid_search.best_params_)\n",
    "print(\"Best score:\", grid_search.best_score_)\n"
   ]
  },
  {
   "cell_type": "markdown",
   "id": "0f474f8b",
   "metadata": {},
   "source": [
    "Part 5 — Handle Class Imbalance :"
   ]
  },
  {
   "cell_type": "markdown",
   "id": "dc5eda44",
   "metadata": {},
   "source": [
    "Using class_weight='balanced' :"
   ]
  },
  {
   "cell_type": "code",
   "execution_count": 106,
   "id": "74176879",
   "metadata": {},
   "outputs": [
    {
     "name": "stdout",
     "output_type": "stream",
     "text": [
      "\n",
      "Balanced Class Weights Model Report:\n",
      "\n",
      "              precision    recall  f1-score   support\n",
      "\n",
      "           0       0.71      0.85      0.77       149\n",
      "           1       0.84      0.70      0.76       171\n",
      "\n",
      "    accuracy                           0.77       320\n",
      "   macro avg       0.78      0.77      0.77       320\n",
      "weighted avg       0.78      0.77      0.77       320\n",
      "\n"
     ]
    }
   ],
   "source": [
    "svm_balanced = SVC(**grid_search.best_params_, class_weight='balanced', random_state=42)\n",
    "svm_balanced.fit(X_train, y_train)\n",
    "y_pred_balanced = svm_balanced.predict(X_test)\n",
    "\n",
    "print(\"\\nBalanced Class Weights Model Report:\\n\")\n",
    "print(classification_report(y_test, y_pred_balanced))\n"
   ]
  },
  {
   "cell_type": "markdown",
   "id": "0dbd2fd5",
   "metadata": {},
   "source": [
    " Using manual weights :"
   ]
  },
  {
   "cell_type": "code",
   "execution_count": 115,
   "id": "cf6e963d",
   "metadata": {},
   "outputs": [
    {
     "name": "stdout",
     "output_type": "stream",
     "text": [
      "Manual Weights SVM:\n",
      "              precision    recall  f1-score   support\n",
      "\n",
      "           0       0.77      0.83      0.80       149\n",
      "           1       0.84      0.78      0.81       171\n",
      "\n",
      "    accuracy                           0.81       320\n",
      "   macro avg       0.81      0.81      0.81       320\n",
      "weighted avg       0.81      0.81      0.81       320\n",
      "\n"
     ]
    }
   ],
   "source": [
    "from sklearn.svm import SVC\n",
    "from sklearn.metrics import classification_report\n",
    "\n",
    "manual_weights = {\n",
    "    0 : 4,\n",
    "    1 : 4\n",
    "}\n",
    "\n",
    "svm_manual = SVC(**grid_search.best_params_, class_weight=manual_weights, random_state=42)\n",
    "svm_manual.fit(X_train, y_train)\n",
    "\n",
    "\n",
    "y_pred_manual = svm_manual.predict(X_test)\n",
    "\n",
    "\n",
    "print(\"Manual Weights SVM:\")\n",
    "print(classification_report(y_test, y_pred_manual, zero_division=0))\n"
   ]
  },
  {
   "cell_type": "markdown",
   "id": "ede5d7a1",
   "metadata": {},
   "source": []
  },
  {
   "cell_type": "code",
   "execution_count": 117,
   "id": "2dfab2e0",
   "metadata": {},
   "outputs": [
    {
     "name": "stdout",
     "output_type": "stream",
     "text": [
      "\n",
      "Final Model Metrics:\n",
      "Accuracy: 0.80625\n",
      "Precision: 0.808971786007266\n",
      "Recall: 0.80625\n",
      "F1 Score: 0.8064772727272727\n"
     ]
    },
    {
     "data": {
      "image/png": "[encoded data removed]",
      "text/plain": [
       "<Figure size 640x480 with 2 Axes>"
      ]
     },
     "metadata": {},
     "output_type": "display_data"
    }
   ],
   "source": [
    "from sklearn.metrics import confusion_matrix\n",
    "\n",
    "# Final model (best params from GridSearchCV with class_weight)\n",
    "final_svm = SVC(**grid_search.best_params_ , class_weight=manual_weights , random_state=42)\n",
    "final_svm.fit(X_train, y_train)\n",
    "y_pred_final = final_svm.predict(X_test)\n",
    "\n",
    "print(\"\\nFinal Model Metrics:\")\n",
    "print(\"Accuracy:\", accuracy_score(y_test, y_pred_final))\n",
    "print(\"Precision:\", precision_score(y_test, y_pred_final, average='weighted'))\n",
    "print(\"Recall:\", recall_score(y_test, y_pred_final, average='weighted'))\n",
    "print(\"F1 Score:\", f1_score(y_test, y_pred_final, average='weighted'))\n",
    "\n",
    "# Confusion Matrix\n",
    "cm = confusion_matrix(y_test, y_pred_final)\n",
    "sns.heatmap(cm, annot=True, fmt='d', cmap='Blues')\n",
    "plt.title(\"Confusion Matrix - Final Model\")\n",
    "plt.xlabel(\"Predicted\")\n",
    "plt.ylabel(\"Actual\")\n",
    "plt.show()\n"
   ]
  }
 ],
 "metadata": {
  "kernelspec": {
   "display_name": "myenv",
   "language": "python",
   "name": "python3"
  },
  "language_info": {
   "codemirror_mode": {
    "name": "ipython",
    "version": 3
   },
   "file_extension": ".py",
   "mimetype": "text/x-python",
   "name": "python",
   "nbconvert_exporter": "python",
   "pygments_lexer": "ipython3",
   "version": "3.10.18"
  }
 },
 "nbformat": 4,
 "nbformat_minor": 5
}
